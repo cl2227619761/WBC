{
 "cells": [
  {
   "cell_type": "code",
   "execution_count": 1,
   "metadata": {
    "collapsed": false
   },
   "outputs": [
    {
     "ename": "ImportError",
     "evalue": "DLL load failed: A megadott modul nem található.",
     "output_type": "error",
     "traceback": [
      "\u001b[1;31m---------------------------------------------------------------------------\u001b[0m",
      "\u001b[1;31mImportError\u001b[0m                               Traceback (most recent call last)",
      "\u001b[1;32m<ipython-input-1-8ce6f8e7b987>\u001b[0m in \u001b[0;36m<module>\u001b[1;34m()\u001b[0m\n\u001b[0;32m      5\u001b[0m \u001b[1;32mfrom\u001b[0m \u001b[0mskimage\u001b[0m \u001b[1;32mimport\u001b[0m \u001b[0mmeasure\u001b[0m\u001b[1;33m\u001b[0m\u001b[0m\n\u001b[0;32m      6\u001b[0m \u001b[1;32mimport\u001b[0m \u001b[0mmath\u001b[0m\u001b[1;33m\u001b[0m\u001b[0m\n\u001b[1;32m----> 7\u001b[1;33m \u001b[1;32mimport\u001b[0m \u001b[0mcv2\u001b[0m\u001b[1;33m\u001b[0m\u001b[0m\n\u001b[0m\u001b[0;32m      8\u001b[0m \u001b[1;32mfrom\u001b[0m \u001b[0mmatplotlib\u001b[0m \u001b[1;32mimport\u001b[0m \u001b[0mpyplot\u001b[0m \u001b[1;32mas\u001b[0m \u001b[0mplt\u001b[0m\u001b[1;33m\u001b[0m\u001b[0m\n\u001b[0;32m      9\u001b[0m \u001b[0mget_ipython\u001b[0m\u001b[1;33m(\u001b[0m\u001b[1;33m)\u001b[0m\u001b[1;33m.\u001b[0m\u001b[0mmagic\u001b[0m\u001b[1;33m(\u001b[0m\u001b[1;34m'matplotlib inline'\u001b[0m\u001b[1;33m)\u001b[0m\u001b[1;33m\u001b[0m\u001b[0m\n",
      "\u001b[1;31mImportError\u001b[0m: DLL load failed: A megadott modul nem található."
     ]
    }
   ],
   "source": [
    "import os, sys\n",
    "import numpy as np\n",
    "from skimage import morphology\n",
    "from skimage import feature\n",
    "from skimage import measure\n",
    "import math\n",
    "import cv2\n",
    "from matplotlib import pyplot as plt\n",
    "%matplotlib inline \n",
    "\n",
    "lib_path = os.path.abspath(os.path.join('d:/Projects/WBC/', 'libs'))\n",
    "sys.path.append(lib_path)\n",
    "\n",
    "from pr_params import prp\n",
    "import tools"
   ]
  },
  {
   "cell_type": "code",
   "execution_count": null,
   "metadata": {
    "collapsed": false
   },
   "outputs": [],
   "source": [
    "prp=prp()\n",
    "    \n",
    "image_dir=prp.getTestImageDirs('Lymphocyte')\n",
    "image_file=os.path.join(image_dir,'23.bmp')\n",
    "im = cv2.imread(image_file,cv2.IMREAD_COLOR)\n",
    "hist = tools.colorHist(im,1)"
   ]
  },
  {
   "cell_type": "code",
   "execution_count": null,
   "metadata": {
    "collapsed": false
   },
   "outputs": [],
   "source": [
    "plt.imshow(im)"
   ]
  },
  {
   "cell_type": "code",
   "execution_count": null,
   "metadata": {
    "collapsed": true
   },
   "outputs": [],
   "source": [
    "# choose best color channel - for separating background\n",
    "im_onech = im[:,:,1];\n",
    "\n",
    "# background - foreground binarization\n",
    "# foreground : all cells\n",
    "th, foreground_mask = cv2.threshold(im_onech,0,255,cv2.THRESH_BINARY_INV+cv2.THRESH_OTSU)"
   ]
  },
  {
   "cell_type": "code",
   "execution_count": null,
   "metadata": {
    "collapsed": true
   },
   "outputs": [],
   "source": [
    "# processing for dtf\n",
    "\n",
    "r=int(prp.rbcR/2)\n",
    "kernel = cv2.getStructuringElement(cv2.MORPH_ELLIPSE,(r,r))\n",
    "\n",
    "foreground_mask_open=cv2.morphologyEx(foreground_mask, cv2.MORPH_OPEN, kernel, iterations=1)\n",
    "\n",
    "# filling convex holes\n",
    "\n",
    "background_mask=255-foreground_mask_open\n",
    "\n",
    "output = cv2.connectedComponentsWithStats(background_mask, 8, cv2.CV_32S)\n",
    "\n",
    "\n",
    "for i in range(output[0]):\n",
    "    area=output[2][i][4]\n",
    "    if area<prp.rbcR*prp.rbcR/5: \n",
    "        foreground_mask_open[output[1]==i]=255\n",
    "\n",
    "\n",
    "# use dtf to find markers for watershed\n",
    "dist_transform = cv2.distanceTransform(foreground_mask_open,cv2.DIST_L2,5)\n",
    "\n",
    "dist_transform[dist_transform<prp.rbcR*0.5]=0"
   ]
  },
  {
   "cell_type": "code",
   "execution_count": null,
   "metadata": {
    "collapsed": true
   },
   "outputs": [],
   "source": [
    "# watershed\n",
    "r=int(prp.rbcR/2)\n",
    "kernel = np.ones((r,r),np.uint8)\n",
    "\n",
    "local_maxi = feature.peak_local_max(dist_transform, indices=False, footprint=np.ones((int(prp.rbcR*0.6), int(prp.rbcR*0.6))), labels=foreground_mask_open)\n",
    "local_maxi_dilate=cv2.dilate(local_maxi.astype('uint8')*255,kernel, iterations = 1)\n",
    "markers = measure.label(local_maxi_dilate)\n",
    "\n",
    "# watershed on dtf\n",
    "labels_ws = morphology.watershed(-dist_transform, markers, mask=foreground_mask_open)"
   ]
  },
  {
   "cell_type": "code",
   "execution_count": null,
   "metadata": {
    "collapsed": true
   },
   "outputs": [],
   "source": [
    "# edge map for visualization\n",
    "mag = tools.getGradientMagnitude(labels_ws.astype('float32'))\n",
    "mag[mag>0]=255\n",
    "\n",
    "im2=tools.maskOverlay(im,mag,0.5,1,0)\n",
    "plt.imshow(im2)"
   ]
  },
  {
   "cell_type": "code",
   "execution_count": null,
   "metadata": {
    "collapsed": true
   },
   "outputs": [],
   "source": [
    "# counting\n",
    "\n",
    "for label in np.unique(labels_ws):\n",
    "        # if the label is zero, we are examining the 'background'\n",
    "        # so simply ignore it\n",
    "     if label == 0:\n",
    "         continue\n",
    "\n",
    "     mask = np.zeros(im_onech.shape, dtype=\"uint8\")\n",
    "     mask[labels_ws == label] = 255\n",
    "     cnts = cv2.findContours(mask.copy(), cv2.RETR_EXTERNAL,cv2.CHAIN_APPROX_SIMPLE)[-2]\n",
    "     c = max(cnts, key=cv2.contourArea)\n",
    "     x,y,w,h = cv2.boundingRect(c)\n",
    "     if ((x>prp.rbcR) & (x+w<im.shape[1]-prp.rbcR) & \n",
    "         (y>prp.rbcR) & (y+h<im.shape[0]-prp.rbcR)):\n",
    "        cv2.rectangle(im2,(x,y),(x+w,y+h),(255,255,255),2)\n",
    "        cv2.putText(im2, \"#{}\".format(label), (x - 10, y),cv2.FONT_HERSHEY_SIMPLEX, 0.6, (0, 255, 0), 2) \n",
    "        if cv2.contourArea(c)>2*int(math.pi*math.pow(prp.wbcRatio*prp.rbcR,2)):\n",
    "            cv2.rectangle(im2,(x,y),(x+w,y+h),(0,0,255),3)"
   ]
  },
  {
   "cell_type": "code",
   "execution_count": null,
   "metadata": {
    "collapsed": false
   },
   "outputs": [],
   "source": [
    "plt.imshow(im2)"
   ]
  },
  {
   "cell_type": "code",
   "execution_count": null,
   "metadata": {
    "collapsed": true
   },
   "outputs": [],
   "source": []
  }
 ],
 "metadata": {
  "anaconda-cloud": {},
  "kernelspec": {
   "display_name": "Python [cntk-py34]",
   "language": "python",
   "name": "Python [cntk-py34]"
  },
  "language_info": {
   "codemirror_mode": {
    "name": "ipython",
    "version": 3
   },
   "file_extension": ".py",
   "mimetype": "text/x-python",
   "name": "python",
   "nbconvert_exporter": "python",
   "pygments_lexer": "ipython3",
   "version": "3.4.5"
  }
 },
 "nbformat": 4,
 "nbformat_minor": 2
}
